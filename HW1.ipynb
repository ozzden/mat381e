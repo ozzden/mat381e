{
 "cells": [
  {
   "cell_type": "markdown",
   "id": "79f6d4d6-18b4-4e6f-b09c-d3df0105db6a",
   "metadata": {},
   "source": [
    "# Homework #1\n",
    "\n",
    "Remember: You must ingest the data to your notebooks directly from the data server. Also, don't write the same code with modifications to do similar things over and over again. Write a function.\n",
    "\n",
    "## Question #1\n",
    "\n",
    "For this question use the data [at this link](https://data.ibb.gov.tr/dataset/hourly-public-transport-data-set).\n",
    "\n",
    "1. Calculate total hourly uses of different modes of transports (RAY, KARAYOLU, DENİZ) as pandas data frames for January 2021 and May 2021. Do you see any differences in usage patterns? Explain.\n",
    "2. Calculate total hourly uses of different transfer types (AKTARMA, NORMAL) as pandas data frames for June 2020 and in September 2020.\n",
    "3. Plot the results for step #1 and #2.\n",
    "4. Calculate the daily totals for each line, and find out the busiest lines in each day of April 2020\n",
    "5. Calculate the daily totals of passenger numbers and passage numbers, then calculate the daily ratios of passage numbers by passenger numbers for August 2020. What do the numbers tell you?\n"
   ]
  },
  {
   "cell_type": "code",
   "execution_count": null,
   "id": "535a852f",
   "metadata": {},
   "outputs": [],
   "source": [
    "from xmltodict import parse\n",
    "from urllib.request import urlopen\n",
    "\n",
    "import  matplotlib.pyplot as plt\n",
    "import xml.etree.ElementTree as ET\n",
    "import seaborn as sns\n",
    "\n",
    "import pandas as pd\n",
    "import json\n",
    "import yaml\n",
    "\n",
    "import numpy as np"
   ]
  },
  {
   "cell_type": "markdown",
   "id": "5385e2b8",
   "metadata": {},
   "source": [
    "# 1) Q1"
   ]
  },
  {
   "cell_type": "code",
   "execution_count": null,
   "id": "189bad37",
   "metadata": {},
   "outputs": [],
   "source": [
    "data_jan = pd.read_csv('https://data.ibb.gov.tr/dataset/a6855ce7-4092-40a5-82b5-34cf3c7e36e3/resource/004994f5-3a50-4721-8787-41d4940bdaee/download/hourly_transportation_202101.csv')\n",
    "data_jan  # 2021 january dataset"
   ]
  },
  {
   "cell_type": "code",
   "execution_count": null,
   "id": "f38ed198",
   "metadata": {},
   "outputs": [],
   "source": [
    "data_may = pd.read_csv(\"https://data.ibb.gov.tr/dataset/a6855ce7-4092-40a5-82b5-34cf3c7e36e3/resource/42b4a830-fee6-4765-9daf-3f3884f09b4b/download/hourly_transportation_202105.csv\")\n",
    "data_may # 2021 may dataset"
   ]
  },
  {
   "cell_type": "code",
   "execution_count": null,
   "id": "7df7a23b",
   "metadata": {},
   "outputs": [],
   "source": [
    "data_jan.info()"
   ]
  },
  {
   "cell_type": "code",
   "execution_count": null,
   "id": "8414590a",
   "metadata": {},
   "outputs": [],
   "source": [
    "data_may.info()"
   ]
  },
  {
   "cell_type": "markdown",
   "id": "638796c0",
   "metadata": {},
   "source": [
    "## ANSWER TO Q1 : only difference im seeing is transport_Type_ID column type is different and there is only 3 days of data in may"
   ]
  },
  {
   "cell_type": "markdown",
   "id": "addec4b7",
   "metadata": {},
   "source": [
    "## date sort function and changing in dataframe"
   ]
  },
  {
   "cell_type": "code",
   "execution_count": null,
   "id": "cfb799b0",
   "metadata": {},
   "outputs": [],
   "source": [
    "def dateSort(data_month):\n",
    "    return data_month.sort_values(by=[\"DATE_TIME\"],inplace=True)\n",
    "dateSort(data_jan)\n",
    "dateSort(data_may)"
   ]
  },
  {
   "cell_type": "markdown",
   "id": "40b7cce6",
   "metadata": {},
   "source": [
    "## function for null check, sort value by column"
   ]
  },
  {
   "cell_type": "code",
   "execution_count": null,
   "id": "4bf28725",
   "metadata": {},
   "outputs": [],
   "source": [
    "def  Nanvalues(data_mon):\n",
    "    mon_null = data_mon.isnull().sum()\n",
    "    return mon_null\n"
   ]
  },
  {
   "cell_type": "code",
   "execution_count": null,
   "id": "943191de",
   "metadata": {},
   "outputs": [],
   "source": [
    "def sort_value(data_month,name):\n",
    "    return data_month.sort_values(name,ascending=False)\n",
    "\n"
   ]
  },
  {
   "cell_type": "markdown",
   "id": "85823d55",
   "metadata": {},
   "source": [
    " creating data frame for total passengers of different transportation types"
   ]
  },
  {
   "cell_type": "code",
   "execution_count": null,
   "id": "143db929",
   "metadata": {},
   "outputs": [],
   "source": [
    "data_jan_sum = data_jan.groupby([\"DATE_TIME\",\"TRANSPORT_TYPE_DESC\"],as_index=False)[\"NUMBER_OF_PASSENGER\"].sum()\n",
    "df_1 = pd.DataFrame(data_jan_sum)\n",
    "df_1\n",
    "\n",
    "\n"
   ]
  },
  {
   "cell_type": "code",
   "execution_count": null,
   "id": "f0fa47d3",
   "metadata": {},
   "outputs": [],
   "source": [
    "data_may_sum = data_may.groupby([\"DATE_TIME\",\"TRANSPORT_TYPE_DESC\"],as_index=False)[\"NUMBER_OF_PASSENGER\"].sum()\n",
    "df_1.set_index(['NUMBER_OF_PASSENGER']) \n",
    "df_1 = pd.DataFrame(data_may_sum)\n",
    "df_1"
   ]
  },
  {
   "cell_type": "code",
   "execution_count": null,
   "id": "143db929",
   "metadata": {},
   "outputs": [],
   "source": [
    "data_jan_sum = data_jan.groupby([\"TRANSPORT_TYPE_DESC\"],as_index=False)[\"NUMBER_OF_PASSENGER\"].sum() # january 2021\n",
    "df_1 = pd.DataFrame(data_jan_sum)\n",
    "df_1[\"Percent\"] = (df_1[\"NUMBER_OF_PASSENGER\"] / df_1[\"NUMBER_OF_PASSENGER\"].sum()*100)\n",
    "df_1\n",
    "\n",
    "\n"
   ]
  },
  {
   "cell_type": "code",
   "execution_count": null,
   "id": "f0fa47d3",
   "metadata": {},
   "outputs": [],
   "source": [
    "data_may_sum = data_may.groupby([\"TRANSPORT_TYPE_DESC\"],as_index=False)[\"NUMBER_OF_PASSENGER\"].sum() # may 2021\n",
    "df_1 = pd.DataFrame(data_may_sum)\n",
    "df_1[\"percent\"] = (df_1[\"NUMBER_OF_PASSENGER\"] / df_1[\"NUMBER_OF_PASSENGER\"].sum()*100)\n",
    "df_1\n"
   ]
  },
  {
   "cell_type": "code",
   "execution_count": null,
   "id": "d3e33150",
   "metadata": {},
   "outputs": [],
   "source": [
    "#df_pivot = pd.pivot_table(data_jan, values=\"NUMBER_OF_PASSENGER\",columns=\"TRANSPORT_TYPE_DESC\")\n",
    "#ax = df_pivot.plot(kind=\"bar\",alpha=0.5)\n",
    "#plt.show()"
   ]
  },
  {
   "cell_type": "markdown",
   "id": "8e9ab8be",
   "metadata": {},
   "source": [
    "# 1) Q2\n",
    "2. Calculate total hourly uses of different transfer types (AKTARMA, NORMAL) as pandas data frames for June 2020 and in September 2020."
   ]
  },
  {
   "cell_type": "code",
   "execution_count": null,
   "id": "1e1f79e7",
   "metadata": {},
   "outputs": [],
   "source": [
    "data_jun = pd.read_csv(\"https://data.ibb.gov.tr/dataset/a6855ce7-4092-40a5-82b5-34cf3c7e36e3/resource/4f1c434d-bd1f-4937-b88f-6e2df1a85dc5/download/hourly_transportation_202006.csv\")\n",
    "data_jun  # 2020 june dataset"
   ]
  },
  {
   "cell_type": "code",
   "execution_count": null,
   "id": "1e1f79e7",
   "metadata": {},
   "outputs": [],
   "source": [
    "data_sep = pd.read_csv(\"https://data.ibb.gov.tr/dataset/a6855ce7-4092-40a5-82b5-34cf3c7e36e3/resource/5b3b12b7-575d-4b55-b497-62e3b544edb0/download/hourly_transportation_202009.csv\")\n",
    "data_sep # 2020 september dataset"
   ]
  },
  {
   "cell_type": "code",
   "execution_count": null,
   "id": "09c76a96",
   "metadata": {},
   "outputs": [],
   "source": [
    "dateSort(data_sep)\n",
    "dateSort(data_jun)  \n"
   ]
  },
  {
   "cell_type": "code",
   "execution_count": null,
   "id": "153c4128",
   "metadata": {},
   "outputs": [],
   "source": [
    "data_jun_sum = data_jun.groupby([\"DATE_TIME\",\"TRANSFER_TYPE\"],as_index=False)[\"NUMBER_OF_PASSENGER\"].sum()\n",
    "data_jun_sum"
   ]
  },
  {
   "cell_type": "code",
   "execution_count": null,
   "id": "150aff6a",
   "metadata": {},
   "outputs": [],
   "source": [
    "data_sep_sum = data_sep.groupby([\"DATE_TIME\",\"TRANSFER_TYPE\"],as_index=False)[\"NUMBER_OF_PASSENGER\"].sum()\n",
    "data_sep_sum"
   ]
  },
  {
   "cell_type": "markdown",
   "id": "ffda7dea",
   "metadata": {},
   "source": [
    "# 1) Q3"
   ]
  },
  {
   "cell_type": "code",
   "execution_count": null,
   "id": "dfa62940",
   "metadata": {},
   "outputs": [],
   "source": [
    "sns.set(rc={'figure.figsize':(11.7,8.27)})\n",
    "sns.lineplot(data=data_jan_sum, x='DATE_TIME', y='NUMBER_OF_PASSENGER', hue='TRANSPORT_TYPE_DESC')"
   ]
  },
  {
   "cell_type": "code",
   "execution_count": null,
   "id": "80d7c63e",
   "metadata": {},
   "outputs": [],
   "source": [
    "sns.lineplot(data=data_may_sum, x='DATE_TIME', y='NUMBER_OF_PASSENGER', hue='TRANSPORT_TYPE_DESC')"
   ]
  },
  {
   "cell_type": "code",
   "execution_count": null,
   "id": "3ed11d82",
   "metadata": {},
   "outputs": [],
   "source": [
    "sns.lineplot(data=data_jun_sum, x='DATE_TIME', y='NUMBER_OF_PASSENGER', hue='TRANSFER_TYPE')"
   ]
  },
  {
   "cell_type": "code",
   "execution_count": null,
   "id": "87db3d35",
   "metadata": {},
   "outputs": [],
   "source": [
    "sns.lineplot(data=data_sep_sum, x='DATE_TIME', y='NUMBER_OF_PASSENGER', hue='TRANSFER_TYPE')"
   ]
  },
  {
   "cell_type": "markdown",
   "id": "e52f6483",
   "metadata": {},
   "source": [
    "# 1)Q4\n",
    "4. Calculate the daily totals for each line, and find out the busiest lines in each day of April 2020\n"
   ]
  },
  {
   "cell_type": "code",
   "execution_count": null,
   "id": "6061c96b",
   "metadata": {},
   "outputs": [],
   "source": [
    "data_apr = pd.read_csv('https://data.ibb.gov.tr/dataset/a6855ce7-4092-40a5-82b5-34cf3c7e36e3/resource/75e25417-36df-4822-8a18-578f0f7a584a/download/hourly_transportation_202004.csv')\n",
    "data_apr # dataset april 2020"
   ]
  },
  {
   "cell_type": "code",
   "execution_count": null,
   "id": "76644cd4",
   "metadata": {},
   "outputs": [],
   "source": [
    "dateSort(data_apr)\n",
    "data_apr"
   ]
  },
  {
   "cell_type": "code",
   "execution_count": null,
   "id": "6d9c2751",
   "metadata": {},
   "outputs": [],
   "source": [
    "data_apr1 = data_apr.groupby([\"DATE_TIME\",\"LINE\"],as_index=False)[\"NUMBER_OF_PASSENGER\"].sum()    # first step of dataframe for our target columns\n",
    "df_apr = pd.DataFrame(data_apr1)\n",
    "df_apr\n"
   ]
  },
  {
   "cell_type": "markdown",
   "id": "741ad630",
   "metadata": {},
   "source": [
    "seperating time and date from DATE_TIME column"
   ]
  },
  {
   "cell_type": "code",
   "execution_count": null,
   "id": "61b690fb",
   "metadata": {},
   "outputs": [],
   "source": [
    "from datetime import datetime\n",
    "\n",
    "df_apr[\"TIME\"] = pd.to_datetime(df_apr[\"DATE_TIME\"]).dt.time\n",
    "df_apr[\"DATE\"] = pd.to_datetime(df_apr[\"DATE_TIME\"]).dt.date\n",
    "df_apr"
   ]
  },
  {
   "cell_type": "code",
   "execution_count": null,
   "id": "1c547350",
   "metadata": {},
   "outputs": [],
   "source": [
    "#df_apr = pd.DataFrame({'DATE':pd.date_range(start='2020-04-01',end='2020-04-02')})\n",
    "#df_apr.DATE.dt.month\n",
    "\n",
    "\n"
   ]
  },
  {
   "cell_type": "markdown",
   "id": "41f5ede2",
   "metadata": {},
   "source": [
    "seperating day from date "
   ]
  },
  {
   "cell_type": "code",
   "execution_count": null,
   "id": "0f704722",
   "metadata": {},
   "outputs": [],
   "source": [
    "df_apr[\"DATE\"] = pd.to_datetime(df_apr['DATE'])\n",
    "df_apr['DAY'] = df_apr['DATE'].dt.strftime('%d')\n",
    "#df_apr = df_apr.reindex(columns=[\"DATE_TIME\",\"LINE\",\"TIME\",\"DATE\",\"DAY\",\"NUMBER_OF_PASSENGER\"])\n",
    "#df_apr.drop(\"DATE_TIME\",inplace=True,axis=1)\n",
    "df_apr\n"
   ]
  },
  {
   "cell_type": "markdown",
   "id": "5e205f30",
   "metadata": {},
   "source": [
    "## DAILY TOTALS FOR EACH LINE"
   ]
  },
  {
   "cell_type": "code",
   "execution_count": null,
   "id": "f48d8f7a",
   "metadata": {},
   "outputs": [],
   "source": [
    "data_apr1 = df_apr.groupby([\"DAY\",\"LINE\"],as_index=False)[\"NUMBER_OF_PASSENGER\"].sum().sort_values(by=[\"NUMBER_OF_PASSENGER\"],ascending=False)\n",
    "data_apr1"
   ]
  },
  {
   "cell_type": "markdown",
   "id": "b0103b89",
   "metadata": {},
   "source": [
    "### BUSIEST LINE IN EACH DAY"
   ]
  },
  {
   "cell_type": "code",
   "execution_count": null,
   "id": "9fa5cc26",
   "metadata": {},
   "outputs": [],
   "source": [
    "busy_Line = data_apr1.drop_duplicates(\"DAY\")\n",
    "busy_Line\n",
    "\n",
    "\n"
   ]
  },
  {
   "cell_type": "code",
   "execution_count": null,
   "id": "adb8d518",
   "metadata": {},
   "outputs": [],
   "source": [
    "busy_day1 = data_apr1.drop_duplicates(\"LINE\")  # every line's busiest day\n",
    "busy_day1"
   ]
  },
  {
   "cell_type": "markdown",
   "id": "f6ea077a",
   "metadata": {},
   "source": [
    "# 1) Q5\n",
    "5. Calculate the daily totals of passenger numbers and passage numbers, then calculate the daily ratios of passage numbers by passenger numbers for August 2020. What do the numbers tell you?"
   ]
  },
  {
   "cell_type": "code",
   "execution_count": null,
   "id": "223761c2",
   "metadata": {},
   "outputs": [],
   "source": [
    "data_aug = pd.read_csv('https://data.ibb.gov.tr/dataset/a6855ce7-4092-40a5-82b5-34cf3c7e36e3/resource/a195a42f-727a-4f1e-ad55-471306788c99/download/hourly_transportation_202008.csv')\n",
    "data_aug # dataset aug 2020"
   ]
  },
  {
   "cell_type": "code",
   "execution_count": null,
   "id": "3c7cb772",
   "metadata": {},
   "outputs": [],
   "source": [
    "data_aug[\"TIME\"] = pd.to_datetime(data_aug[\"DATE_TIME\"]).dt.time\n",
    "data_aug[\"DATE\"] = pd.to_datetime(data_aug[\"DATE_TIME\"]).dt.date\n",
    "data_aug[\"DATE\"] = pd.to_datetime(data_aug['DATE'])\n",
    "data_aug['DAY'] = data_aug['DATE'].dt.strftime('%d')\n",
    "data_aug"
   ]
  },
  {
   "cell_type": "code",
   "execution_count": null,
   "id": "9b2d8b36",
   "metadata": {},
   "outputs": [],
   "source": [
    "df_aug1 = data_aug.groupby([\"DAY\"],as_index=False)[\"NUMBER_OF_PASSENGER\",\"NUMBER_OF_PASSAGE\"].apply(lambda x : x.astype(int).sum())\n",
    "df_aug1"
   ]
  },
  {
   "cell_type": "code",
   "execution_count": null,
   "id": "5c340006",
   "metadata": {},
   "outputs": [],
   "source": [
    "df_aug1[\"ratio\"] = (df_aug1[\"NUMBER_OF_PASSENGER\"] / df_aug1[\"NUMBER_OF_PASSAGE\"])*100\n",
    "df_aug1"
   ]
  },
  {
   "cell_type": "markdown",
   "id": "9fb3fe8e",
   "metadata": {},
   "source": [
    "answer : if we consider some people accidentally used istanbul kart extra then people are not illegaly passing turnstiles at the start of the month "
   ]
  },
  {
   "cell_type": "markdown",
   "id": "7906e0a5-fbb7-4bf0-b77d-522aee1967c5",
   "metadata": {},
   "source": [
    "# Question #2\n",
    "\n",
    "For this question use the data [at this link](https://alaska.usgs.gov/products/data.php?dataid=522). This dataset contains isotope values of muscle tissue from fish collected in the nearshore Beaufort Sea, Alaska in summers 2017-2019.\n",
    "\n",
    "1. Calculate the average lengths of fish sampled at each location in the years 2017, 2018 and 2019.\n",
    "2. Can you statistically observe any differences in lengths between the years 2018 and 2019?\n",
    "3. Calculate the average concentration of C13 and N15 for the samples collected at each location in the years 2017, 2018 and 2019.\n",
    "4. Can you statistically observe any differences in C13 and N15 concentrations between the years 2018 and 2019?\n",
    "5. Can we do the same comparisons for the year 2017 against 2018 or 2019? Why doesn't this work? What should we do to make these comparisons to work?"
   ]
  },
  {
   "cell_type": "code",
   "execution_count": null,
   "id": "abe14944",
   "metadata": {},
   "outputs": [],
   "source": [
    "import zipfile\n",
    "from urllib.request import urlopen\n",
    "import shutil\n",
    "\n",
    "\n",
    "url = 'https://alaska.usgs.gov/data/aquaticEcology/fish/fish_stableIsotopes_beaufort_stanek/fish_stableIsotopes_beaufort_stanek.zip'\n",
    "file_name = 'fish_stableIsotopes_beaufort_stanek.zip'\n",
    "\n",
    "# extracting zipfile from URL\n",
    "with urlopen(url) as response, open(file_name, 'wb') as out_file:\n",
    "    shutil.copyfileobj(response, out_file)\n",
    "\n",
    "    # extracting required file from zipfile\n",
    "    with zipfile.ZipFile(file_name) as zf:\n",
    "        zf.extract('fish_stableIsotopes_beaufort_stanek.csv')\n",
    "\n",
    "# deleting the zipfile from the directory\n",
    "\n",
    "# loading data from the file\n",
    "data_fish = pd.read_csv('fish_stableIsotopes_beaufort_stanek.csv')\n",
    "data_fish"
   ]
  },
  {
   "cell_type": "code",
   "execution_count": null,
   "id": "b48aa94b",
   "metadata": {},
   "outputs": [],
   "source": [
    "data_fish.info()"
   ]
  },
  {
   "cell_type": "markdown",
   "id": "2560d301",
   "metadata": {},
   "source": [
    "creating new column for only year"
   ]
  },
  {
   "cell_type": "code",
   "execution_count": null,
   "id": "90de7171",
   "metadata": {},
   "outputs": [],
   "source": [
    "data_fish[\"Date\"] = pd.to_datetime(data_fish['Date'])\n",
    "data_fish['Year'] = data_fish['Date'].dt.strftime('%Y')\n",
    "data_fish"
   ]
  },
  {
   "cell_type": "code",
   "execution_count": null,
   "id": "d98bf33e",
   "metadata": {},
   "outputs": [],
   "source": [
    "data_fish[data_fish[\"Date\"].isna()]\n"
   ]
  },
  {
   "cell_type": "code",
   "execution_count": null,
   "id": "63c93236",
   "metadata": {},
   "outputs": [],
   "source": [
    "df_1 = data_fish.groupby([\"Location\",\"Year\"],as_index=False)[\"mmLength\"].mean()\n",
    "df_1"
   ]
  },
  {
   "cell_type": "markdown",
   "id": "1c49f5a7",
   "metadata": {},
   "source": [
    "yes, mean length of fish got way bigger between years in 2018 and 2019"
   ]
  },
  {
   "cell_type": "markdown",
   "id": "7254c507",
   "metadata": {},
   "source": [
    "## 2) Q3"
   ]
  },
  {
   "cell_type": "code",
   "execution_count": null,
   "id": "19165311",
   "metadata": {},
   "outputs": [],
   "source": [
    "df_2 = data_fish.groupby([\"Location\",\"Year\"],as_index=False)[\"d13C\",\"d15N\"].apply(lambda x : x.mean())\n",
    "df_2"
   ]
  },
  {
   "cell_type": "code",
   "execution_count": null,
   "id": "773a305d",
   "metadata": {},
   "outputs": [],
   "source": [
    "df_3 = data_fish.groupby([\"Location\",\"Year\"]).agg({'d13C' : 'describe',\n",
    "                                                   'd15N' : 'describe',\n",
    "                                                   'mmLength' : 'mean'})\n",
    "df_3"
   ]
  },
  {
   "cell_type": "markdown",
   "id": "d454377b",
   "metadata": {},
   "source": [
    "first of all, number of fish decreased after year 2018 that caused bigger length of fish and isotopes of C13 got bigger on the other hand N15 isotopes got bigger except Stefansson Sound\n",
    "we can only compare year 2017 in fwe locations because we don't have any data on other locations "
   ]
  }
 ],
 "metadata": {
  "kernelspec": {
   "display_name": "Python 3.9.12 ('base')",
   "language": "python",
   "name": "python3"
  },
  "language_info": {
   "codemirror_mode": {
    "name": "ipython",
    "version": 3
   },
   "file_extension": ".py",
   "mimetype": "text/x-python",
   "name": "python",
   "nbconvert_exporter": "python",
   "pygments_lexer": "ipython3",
   "version": "3.9.12"
  },
  "vscode": {
   "interpreter": {
    "hash": "23532a83f52d7c79398bcc50e95611c8ad075fecd784d89e085f0b81594d000d"
   }
  }
 },
 "nbformat": 4,
 "nbformat_minor": 5
}
